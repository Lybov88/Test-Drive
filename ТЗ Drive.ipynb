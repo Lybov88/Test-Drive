{
 "cells": [
  {
   "cell_type": "markdown",
   "id": "532765fb",
   "metadata": {},
   "source": [
    "Задание\n",
    "Водитель в Якутске собирается поехать из пункта А в пункт Б. Он готов взять с собой попутчиков.\n",
    "Написать алгоритм, который предложит водителю наиболее подходящие заказы по пути маршрута. \n",
    "\n",
    "\n",
    "Входные параметры:\n",
    "Маршрут водителя - координаты точки А и Б\n",
    "Массив заказов, где заказ содержит координаты точек А и Б.\n",
    "\n",
    "\n"
   ]
  },
  {
   "cell_type": "code",
   "execution_count": 47,
   "id": "0442b648",
   "metadata": {},
   "outputs": [],
   "source": [
    "import pandas as pd\n",
    "import numpy as np"
   ]
  },
  {
   "cell_type": "code",
   "execution_count": 25,
   "id": "fa856fef",
   "metadata": {},
   "outputs": [],
   "source": [
    "#координаты пункта А и Б, пример\n",
    "point_A = (0, 0) #долгота и широта\n",
    "point_B = (7, 7)"
   ]
  },
  {
   "cell_type": "code",
   "execution_count": 26,
   "id": "92d31b4e",
   "metadata": {},
   "outputs": [],
   "source": [
    "#создание массива с координатами заказчиков, пример\n",
    "orders = [\n",
    "    {'start': (1, 2), 'end': (3, 3)},\n",
    "    {'start': (2, 2), 'end': (4, 5)},\n",
    "    {'start': (3, 4), 'end': (5, 6)}\n",
    "    \n",
    "]"
   ]
  },
  {
   "cell_type": "markdown",
   "id": "02c9bc3e",
   "metadata": {},
   "source": [
    "1. Необходимо определить общий путь от т.А до т.Б. Используется любой метод нахождения кратчайшего пути, алгоритм на графах, например алгоритм Дейкстры или алгоритм А*. Для этого создается класс, имеющий методы \n",
    "2. Далее сравнить массив заказов с путем водителя и для каждого заказа найти ближайшую точку на маршруте водителя. \n",
    "3. После сравнения определяется порядок выполнения заказов с целью минимизации общей длины маршрута водителя.\n",
    "4. После того как водитель забирает пассажира его маршрут обновляется.\n",
    "\n",
    "Скажу так, код прописать сама не смогу, поэтому сделала запрос в нейронной сети, и некоторые вещи стали понятны, часть нет. \n",
    "\n",
    "В рамках изученного мною материала по анализу данных, имея такие данные по поездке (датасет, с которым работаю – данные о поездках в Нью-Йорке) я бы рассчитала расстояние между пунктами отправления и прибытия, создала колонку с подсчитанным расстоянием distance, далее сравнивая расстояния с помощью if else, составляю маршрут водителя, где в первую очередь он подберет пассажира с наименьшим расстоянием."
   ]
  },
  {
   "cell_type": "code",
   "execution_count": 40,
   "id": "2d1099ae",
   "metadata": {},
   "outputs": [
    {
     "data": {
      "text/html": [
       "<div>\n",
       "<style scoped>\n",
       "    .dataframe tbody tr th:only-of-type {\n",
       "        vertical-align: middle;\n",
       "    }\n",
       "\n",
       "    .dataframe tbody tr th {\n",
       "        vertical-align: top;\n",
       "    }\n",
       "\n",
       "    .dataframe thead th {\n",
       "        text-align: right;\n",
       "    }\n",
       "</style>\n",
       "<table border=\"1\" class=\"dataframe\">\n",
       "  <thead>\n",
       "    <tr style=\"text-align: right;\">\n",
       "      <th></th>\n",
       "      <th>key</th>\n",
       "      <th>fare_amount</th>\n",
       "      <th>pickup_datetime</th>\n",
       "      <th>pickup_longitude</th>\n",
       "      <th>pickup_latitude</th>\n",
       "      <th>dropoff_longitude</th>\n",
       "      <th>dropoff_latitude</th>\n",
       "      <th>passenger_count</th>\n",
       "    </tr>\n",
       "  </thead>\n",
       "  <tbody>\n",
       "    <tr>\n",
       "      <th>0</th>\n",
       "      <td>2009-06-15 17:26:21.0000001</td>\n",
       "      <td>4.5</td>\n",
       "      <td>2009-06-15 17:26:21 UTC</td>\n",
       "      <td>-73.844311</td>\n",
       "      <td>40.721319</td>\n",
       "      <td>-73.841610</td>\n",
       "      <td>40.712278</td>\n",
       "      <td>1</td>\n",
       "    </tr>\n",
       "    <tr>\n",
       "      <th>1</th>\n",
       "      <td>2010-01-05 16:52:16.0000002</td>\n",
       "      <td>16.9</td>\n",
       "      <td>2010-01-05 16:52:16 UTC</td>\n",
       "      <td>-74.016048</td>\n",
       "      <td>40.711303</td>\n",
       "      <td>-73.979268</td>\n",
       "      <td>40.782004</td>\n",
       "      <td>1</td>\n",
       "    </tr>\n",
       "    <tr>\n",
       "      <th>2</th>\n",
       "      <td>2011-08-18 00:35:00.00000049</td>\n",
       "      <td>5.7</td>\n",
       "      <td>2011-08-18 00:35:00 UTC</td>\n",
       "      <td>-73.982738</td>\n",
       "      <td>40.761270</td>\n",
       "      <td>-73.991242</td>\n",
       "      <td>40.750562</td>\n",
       "      <td>2</td>\n",
       "    </tr>\n",
       "    <tr>\n",
       "      <th>3</th>\n",
       "      <td>2012-04-21 04:30:42.0000001</td>\n",
       "      <td>7.7</td>\n",
       "      <td>2012-04-21 04:30:42 UTC</td>\n",
       "      <td>-73.987130</td>\n",
       "      <td>40.733143</td>\n",
       "      <td>-73.991567</td>\n",
       "      <td>40.758092</td>\n",
       "      <td>1</td>\n",
       "    </tr>\n",
       "    <tr>\n",
       "      <th>4</th>\n",
       "      <td>2010-03-09 07:51:00.000000135</td>\n",
       "      <td>5.3</td>\n",
       "      <td>2010-03-09 07:51:00 UTC</td>\n",
       "      <td>-73.968095</td>\n",
       "      <td>40.768008</td>\n",
       "      <td>-73.956655</td>\n",
       "      <td>40.783762</td>\n",
       "      <td>1</td>\n",
       "    </tr>\n",
       "  </tbody>\n",
       "</table>\n",
       "</div>"
      ],
      "text/plain": [
       "                             key  fare_amount          pickup_datetime  \\\n",
       "0    2009-06-15 17:26:21.0000001          4.5  2009-06-15 17:26:21 UTC   \n",
       "1    2010-01-05 16:52:16.0000002         16.9  2010-01-05 16:52:16 UTC   \n",
       "2   2011-08-18 00:35:00.00000049          5.7  2011-08-18 00:35:00 UTC   \n",
       "3    2012-04-21 04:30:42.0000001          7.7  2012-04-21 04:30:42 UTC   \n",
       "4  2010-03-09 07:51:00.000000135          5.3  2010-03-09 07:51:00 UTC   \n",
       "\n",
       "   pickup_longitude  pickup_latitude  dropoff_longitude  dropoff_latitude  \\\n",
       "0        -73.844311        40.721319         -73.841610         40.712278   \n",
       "1        -74.016048        40.711303         -73.979268         40.782004   \n",
       "2        -73.982738        40.761270         -73.991242         40.750562   \n",
       "3        -73.987130        40.733143         -73.991567         40.758092   \n",
       "4        -73.968095        40.768008         -73.956655         40.783762   \n",
       "\n",
       "   passenger_count  \n",
       "0                1  \n",
       "1                1  \n",
       "2                2  \n",
       "3                1  \n",
       "4                1  "
      ]
     },
     "execution_count": 40,
     "metadata": {},
     "output_type": "execute_result"
    }
   ],
   "source": [
    "df = pd.read_csv('C:/Users/lybov/Downloads/my_files/mnt/HC_Volume_18315164/home-jupyter/jupyter-l-petrova/nyc.csv.zip')\n",
    "df.head()\n",
    "#pickup_ - координаты места, где подобрали пассажира\n",
    "#dropoff_ - координаты, где пассажира высадили"
   ]
  },
  {
   "cell_type": "code",
   "execution_count": 41,
   "id": "330e5ea3",
   "metadata": {},
   "outputs": [],
   "source": [
    "# пишу функцию haversine для подсчета расстояния между пунктами отправления и прибытия \n",
    "def haversine (latitude1,longitude1,latitude2,longitude2, r=6371):\n",
    "    latitude1,longitude1,latitude2,longitude2 = [np.deg2rad(x) for x in (latitude1,longitude1,latitude2,longitude2)] #deg2rad - Перевод градусов в радианы\n",
    "    lat_sin = np.sin((latitude2-latitude1)/2) ** 2\n",
    "    lat_cos = np.cos(latitude1)*np.cos(latitude2)\n",
    "    long_sin = np.sin((longitude2-longitude1)/2) **2\n",
    "    d = 2*r*np.arcsin(np.sqrt(lat_sin+long_sin*lat_cos))\n",
    "    return d"
   ]
  },
  {
   "cell_type": "code",
   "execution_count": null,
   "id": "a0ef1ed6",
   "metadata": {},
   "outputs": [],
   "source": [
    "#latitude1, latitude2- широта исходного местоположения и широта пункта назначения в радианах, \n",
    "# longitude1, longitude2 — долгота исходного местоположения и долгота пункта назначения в радианах,\n",
    "# rr — радиус сферы, будем считать его равным 6371."
   ]
  },
  {
   "cell_type": "code",
   "execution_count": 42,
   "id": "88328af7",
   "metadata": {
    "scrolled": true
   },
   "outputs": [
    {
     "data": {
      "text/plain": [
       "0.4104417357506325"
      ]
     },
     "execution_count": 42,
     "metadata": {},
     "output_type": "execute_result"
    }
   ],
   "source": [
    "haversine(-73.844311,40.721319,-73.841610,40.712278)"
   ]
  },
  {
   "cell_type": "code",
   "execution_count": null,
   "id": "a25c999d",
   "metadata": {},
   "outputs": [],
   "source": [
    "#Саму функцию можно применить как используя обычный цикл"
   ]
  },
  {
   "cell_type": "code",
   "execution_count": 43,
   "id": "8036359e",
   "metadata": {},
   "outputs": [],
   "source": [
    "#сохраним в переменную distances список дистанций для каждой строки\n",
    "distances = []"
   ]
  },
  {
   "cell_type": "code",
   "execution_count": 44,
   "id": "f0571ca3",
   "metadata": {},
   "outputs": [],
   "source": [
    "# проитерируемся по датафрейму по каждой строке\n",
    "for i, row in df.iterrows():\n",
    "    distance = haversine(row.pickup_latitude, row.pickup_longitude, row.dropoff_latitude, row.dropoff_longitude)\n",
    "    distances.append(distance) #после итерации задаем список в ДФ\n",
    "df['distance'] = distances"
   ]
  },
  {
   "cell_type": "code",
   "execution_count": 45,
   "id": "c682287f",
   "metadata": {},
   "outputs": [
    {
     "data": {
      "text/html": [
       "<div>\n",
       "<style scoped>\n",
       "    .dataframe tbody tr th:only-of-type {\n",
       "        vertical-align: middle;\n",
       "    }\n",
       "\n",
       "    .dataframe tbody tr th {\n",
       "        vertical-align: top;\n",
       "    }\n",
       "\n",
       "    .dataframe thead th {\n",
       "        text-align: right;\n",
       "    }\n",
       "</style>\n",
       "<table border=\"1\" class=\"dataframe\">\n",
       "  <thead>\n",
       "    <tr style=\"text-align: right;\">\n",
       "      <th></th>\n",
       "      <th>key</th>\n",
       "      <th>fare_amount</th>\n",
       "      <th>pickup_datetime</th>\n",
       "      <th>pickup_longitude</th>\n",
       "      <th>pickup_latitude</th>\n",
       "      <th>dropoff_longitude</th>\n",
       "      <th>dropoff_latitude</th>\n",
       "      <th>passenger_count</th>\n",
       "      <th>distance</th>\n",
       "    </tr>\n",
       "  </thead>\n",
       "  <tbody>\n",
       "    <tr>\n",
       "      <th>0</th>\n",
       "      <td>2009-06-15 17:26:21.0000001</td>\n",
       "      <td>4.5</td>\n",
       "      <td>2009-06-15 17:26:21 UTC</td>\n",
       "      <td>-73.844311</td>\n",
       "      <td>40.721319</td>\n",
       "      <td>-73.841610</td>\n",
       "      <td>40.712278</td>\n",
       "      <td>1</td>\n",
       "      <td>1.030764</td>\n",
       "    </tr>\n",
       "    <tr>\n",
       "      <th>1</th>\n",
       "      <td>2010-01-05 16:52:16.0000002</td>\n",
       "      <td>16.9</td>\n",
       "      <td>2010-01-05 16:52:16 UTC</td>\n",
       "      <td>-74.016048</td>\n",
       "      <td>40.711303</td>\n",
       "      <td>-73.979268</td>\n",
       "      <td>40.782004</td>\n",
       "      <td>1</td>\n",
       "      <td>8.450134</td>\n",
       "    </tr>\n",
       "    <tr>\n",
       "      <th>2</th>\n",
       "      <td>2011-08-18 00:35:00.00000049</td>\n",
       "      <td>5.7</td>\n",
       "      <td>2011-08-18 00:35:00 UTC</td>\n",
       "      <td>-73.982738</td>\n",
       "      <td>40.761270</td>\n",
       "      <td>-73.991242</td>\n",
       "      <td>40.750562</td>\n",
       "      <td>2</td>\n",
       "      <td>1.389525</td>\n",
       "    </tr>\n",
       "    <tr>\n",
       "      <th>3</th>\n",
       "      <td>2012-04-21 04:30:42.0000001</td>\n",
       "      <td>7.7</td>\n",
       "      <td>2012-04-21 04:30:42 UTC</td>\n",
       "      <td>-73.987130</td>\n",
       "      <td>40.733143</td>\n",
       "      <td>-73.991567</td>\n",
       "      <td>40.758092</td>\n",
       "      <td>1</td>\n",
       "      <td>2.799270</td>\n",
       "    </tr>\n",
       "    <tr>\n",
       "      <th>4</th>\n",
       "      <td>2010-03-09 07:51:00.000000135</td>\n",
       "      <td>5.3</td>\n",
       "      <td>2010-03-09 07:51:00 UTC</td>\n",
       "      <td>-73.968095</td>\n",
       "      <td>40.768008</td>\n",
       "      <td>-73.956655</td>\n",
       "      <td>40.783762</td>\n",
       "      <td>1</td>\n",
       "      <td>1.999157</td>\n",
       "    </tr>\n",
       "  </tbody>\n",
       "</table>\n",
       "</div>"
      ],
      "text/plain": [
       "                             key  fare_amount          pickup_datetime  \\\n",
       "0    2009-06-15 17:26:21.0000001          4.5  2009-06-15 17:26:21 UTC   \n",
       "1    2010-01-05 16:52:16.0000002         16.9  2010-01-05 16:52:16 UTC   \n",
       "2   2011-08-18 00:35:00.00000049          5.7  2011-08-18 00:35:00 UTC   \n",
       "3    2012-04-21 04:30:42.0000001          7.7  2012-04-21 04:30:42 UTC   \n",
       "4  2010-03-09 07:51:00.000000135          5.3  2010-03-09 07:51:00 UTC   \n",
       "\n",
       "   pickup_longitude  pickup_latitude  dropoff_longitude  dropoff_latitude  \\\n",
       "0        -73.844311        40.721319         -73.841610         40.712278   \n",
       "1        -74.016048        40.711303         -73.979268         40.782004   \n",
       "2        -73.982738        40.761270         -73.991242         40.750562   \n",
       "3        -73.987130        40.733143         -73.991567         40.758092   \n",
       "4        -73.968095        40.768008         -73.956655         40.783762   \n",
       "\n",
       "   passenger_count  distance  \n",
       "0                1  1.030764  \n",
       "1                1  8.450134  \n",
       "2                2  1.389525  \n",
       "3                1  2.799270  \n",
       "4                1  1.999157  "
      ]
     },
     "execution_count": 45,
     "metadata": {},
     "output_type": "execute_result"
    }
   ],
   "source": [
    "df.head()\n",
    "#добавили колонку distance с расстоянием,которое мы проехали по каждому маршруту"
   ]
  },
  {
   "cell_type": "markdown",
   "id": "e6e0254f",
   "metadata": {},
   "source": [
    "Далее сравниваю distance по каждой строке с помощью if else, составляю маршрут водителя, где в первую очередь он подберет пассажира с наименьшим расстоянием."
   ]
  }
 ],
 "metadata": {
  "kernelspec": {
   "display_name": "Python 3 (ipykernel)",
   "language": "python",
   "name": "python3"
  },
  "language_info": {
   "codemirror_mode": {
    "name": "ipython",
    "version": 3
   },
   "file_extension": ".py",
   "mimetype": "text/x-python",
   "name": "python",
   "nbconvert_exporter": "python",
   "pygments_lexer": "ipython3",
   "version": "3.9.7"
  }
 },
 "nbformat": 4,
 "nbformat_minor": 5
}
